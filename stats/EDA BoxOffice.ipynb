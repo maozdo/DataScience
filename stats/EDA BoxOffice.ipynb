{
 "cells": [
  {
   "cell_type": "code",
   "execution_count": null,
   "metadata": {},
   "outputs": [],
   "source": [
    "library(DBI)\n",
    "library(dplyr)\n",
    "library(stats)\n",
    "library(devtools)\n",
    "install_github(\"karpatit/mechkar\",force = TRUE)\n",
    "install.packages('colorspace')\n",
    "library(ggplot2)\n",
    "library(colorspace)"
   ]
  },
  {
   "cell_type": "code",
   "execution_count": null,
   "metadata": {},
   "outputs": [],
   "source": [
    "movies <- read.csv(\"/Users/maozdotan/Documents/DS/SQL/BoxOffice_EDA_ff.csv\") \n",
    "head(movies)"
   ]
  },
  {
   "cell_type": "code",
   "execution_count": null,
   "metadata": {},
   "outputs": [],
   "source": [
    "movies$revenue <- as.numeric(movies$revenue)\n",
    "movies$runtime <- as.numeric(movies$runtime)\n",
    "movies$actors_male_count <- as.numeric(movies$actors_male_count)\n",
    "movies$actors_female_count <- as.numeric(movies$actors_female_count)\n",
    "movies$Avg_Popularity_5Y_Actor0 <- as.numeric(movies$Avg_Popularity_5Y_Actor0)\n",
    "movies$Avg_Popularity_5Y_Actor1 <- as.numeric(movies$Avg_Popularity_5Y_Actor1)\n",
    "movies$popularity_cat <- factor(movies$popularity_cat)\n",
    "movies$runtime_cat <- factor(movies$runtime_cat)\n",
    "#movies$runtime_cat <- factor(movies$runtime_cat,levels=c(1,2,3),labels=c(\"Short\",\"medium\",\"long\"))\n",
    "movies$homepage <- factor(movies$homepage)\n",
    "movies$poster_path <- factor(movies$poster_path)\n",
    "movies$tagline <- factor(movies$tagline)\n",
    "movies$in_collection <- factor(movies$in_collection)\n",
    "movies$original_lang_en <- factor(movies$original_lang_en)\n",
    "movies$top_genere <- factor(movies$top_genere)\n",
    "movies$Directing <- as.numeric(movies$Directing)\n",
    "movies$Art <- as.numeric(movies$Art)\n",
    "movies$Sound <- as.numeric(movies$Sound)\n",
    "movies$Crew <- as.numeric(movies$Crew)\n",
    "movies$Costume...Make.Up <- as.numeric(movies$Costume...Make.Up)\n",
    "movies$Crew <- as.numeric(movies$Crew)\n",
    "movies$Production <- as.numeric(movies$Production)\n",
    "movies$Camera <- as.numeric(movies$Camera)\n",
    "movies$Lighting <- as.numeric(movies$Lighting)\n",
    "movies$Editing <- as.numeric(movies$Editing)\n",
    "movies$Writing <- as.numeric(movies$Writing)\n",
    "head(movies)"
   ]
  },
  {
   "cell_type": "code",
   "execution_count": null,
   "metadata": {},
   "outputs": [],
   "source": [
    "col <- colnames(movies)\n",
    "col"
   ]
  },
  {
   "cell_type": "markdown",
   "metadata": {},
   "source": [
    "# חלק 2"
   ]
  },
  {
   "cell_type": "code",
   "execution_count": null,
   "metadata": {},
   "outputs": [],
   "source": [
    "summary(movies)"
   ]
  },
  {
   "cell_type": "code",
   "execution_count": null,
   "metadata": {},
   "outputs": [],
   "source": [
    "### characters\n",
    "strlst <- NULL\n",
    "numlst <- NULL\n",
    "for (v in names(movies)) {\n",
    "    if(typeof(movies[[v]])=='character' | is.factor(movies[[v]])) {\n",
    "        strlst <- c(strlst,v) \n",
    "    } else {\n",
    "        if (v != 'revenue') \n",
    "            numlst <- c(numlst, v)\n",
    "    }\n",
    "}\n",
    "\n",
    "for (v in strlst) {\n",
    "    if(typeof(movies[[v]])=='character') {\n",
    "        movies[[v]] <- factor(movies[[v]])\n",
    "    }\n",
    "}\n",
    "strlst\n",
    "numlst"
   ]
  },
  {
   "cell_type": "code",
   "execution_count": null,
   "metadata": {},
   "outputs": [],
   "source": [
    "tab1 <- suppressWarnings(mechkar::Table1(data=movies[,3:ncol(movies)]))"
   ]
  },
  {
   "cell_type": "code",
   "execution_count": null,
   "metadata": {},
   "outputs": [],
   "source": [
    "tab1"
   ]
  },
  {
   "cell_type": "code",
   "execution_count": null,
   "metadata": {},
   "outputs": [],
   "source": [
    "suppressWarnings(mechkar::exploreData(data=movies,y=\"revenue\"))"
   ]
  },
  {
   "cell_type": "code",
   "execution_count": null,
   "metadata": {},
   "outputs": [],
   "source": [
    "tab1[tab1$Variables == 'top_genere',]"
   ]
  },
  {
   "cell_type": "code",
   "execution_count": null,
   "metadata": {},
   "outputs": [],
   "source": [
    "for (n in col[3:length(col)]) {\n",
    "    print (n)\n",
    "    ifelse(n %in% c('release_year','release_month','revenue'),print(''),\n",
    "        print (tab1[tab1$Variables == n,])\n",
    "           )}"
   ]
  },
  {
   "cell_type": "code",
   "execution_count": null,
   "metadata": {},
   "outputs": [],
   "source": [
    "table(movies$keyword_cnt)"
   ]
  },
  {
   "cell_type": "code",
   "execution_count": null,
   "metadata": {},
   "outputs": [],
   "source": [
    "# Count unique values\n",
    "sapply(movies, function(x) length(unique(x)))"
   ]
  },
  {
   "cell_type": "code",
   "execution_count": null,
   "metadata": {},
   "outputs": [],
   "source": [
    "# Find how many errors in year value\n",
    "length(which(movies$year > 2017))"
   ]
  },
  {
   "cell_type": "code",
   "execution_count": null,
   "metadata": {},
   "outputs": [],
   "source": [
    "movies <- movies %>% mutate(release_year=as.numeric(movies$release_year))\n",
    "movies <- movies %>% mutate(release_year= ifelse(release_year>2020,release_year-100,release_year))\n",
    "c(min(movies$release_year,na.rm=T),max(movies$release_year,na.rm=T))"
   ]
  },
  {
   "cell_type": "markdown",
   "metadata": {},
   "source": [
    "שאלה 2.2\n",
    "גרפים המתארים את ההתנהגות של כל משתנה"
   ]
  },
  {
   "cell_type": "code",
   "execution_count": null,
   "metadata": {},
   "outputs": [],
   "source": [
    "options(repr.plot.width = 5, repr.plot.height = 5)\n",
    "for (n in names(movies[3:length(movies)])) {\n",
    "    suppressWarnings(\n",
    "        if (n %in% numlst) {hist(movies[[n]],xlab=n, main=n)}\n",
    "    else {plot(movies[[n]],main=n)})\n",
    "}"
   ]
  },
  {
   "cell_type": "markdown",
   "metadata": {},
   "source": [
    "# EDA"
   ]
  },
  {
   "cell_type": "markdown",
   "metadata": {},
   "source": [
    "שאלה 2.3 מטריצת קורלציות"
   ]
  },
  {
   "cell_type": "code",
   "execution_count": null,
   "metadata": {},
   "outputs": [],
   "source": [
    "library(MESS)\n",
    "####\n",
    "options(repr.plot.width = 20, repr.plot.height = 20)\n",
    "pairs(movies[,numlst], \n",
    "      upper.panel = panel.smooth,\n",
    "      diag.panel = panel.hist, \n",
    "      lower.panel = NULL,\n",
    "      cex=0.8)\n",
    "\n"
   ]
  },
  {
   "cell_type": "code",
   "execution_count": null,
   "metadata": {
    "scrolled": true
   },
   "outputs": [],
   "source": [
    "options(repr.plot.width = 25, repr.plot.height = 25)\n",
    "library(corrgram)\n",
    "dfcormat <- cor(movies[,numlst], use = \"pairwise.complete.obs\", method = \"spearman\")\n",
    "corrgram::corrgram(dfcormat)"
   ]
  },
  {
   "cell_type": "code",
   "execution_count": null,
   "metadata": {},
   "outputs": [],
   "source": [
    "library(rcompanion)\n",
    "library(lsr)\n",
    "res <- correlate(movies, corr.method = \"spearman\")\n",
    "res"
   ]
  },
  {
   "cell_type": "code",
   "execution_count": null,
   "metadata": {},
   "outputs": [],
   "source": [
    "df1 <- data.frame()\n",
    "df1 <- NULL\n",
    "for (m in c('popularity_cat','runtime_cat','runtime_cat','tagline','original_lang_en','top_genere')) {\n",
    "            df$var1 <- \"Popularity\"\n",
    "            df$var2 <- m\n",
    "            df1$cramersV <- cramersV(movies$popularity_cat, movies[[m]])\n",
    "        }\n",
    "df1\n",
    "cramersV(movies$popularity_cat, movies$runtime_cat)\n",
    "cramersV(movies$popularity_cat, movies$original_lang_en)\n",
    "cramersV(movies$popularity_cat, movies$homepage)\n",
    "cramersV(movies$popularity_cat, movies$tagline)\n",
    "cramersV(movies$popularity_cat, movies$top_genere)\n",
    "cramersV(movies$popularity_cat, movies$in_collection)"
   ]
  },
  {
   "cell_type": "markdown",
   "metadata": {},
   "source": [
    "שאלה 2.4\n",
    "משתנה מטרה \n",
    "Revenue"
   ]
  },
  {
   "cell_type": "code",
   "execution_count": null,
   "metadata": {},
   "outputs": [],
   "source": [
    "options(repr.plot.width = 5, repr.plot.height = 5)\n",
    "summary(movies$revenue)\n",
    "hist(movies$revenue, main='Revenue')\n",
    "hist(log(movies$revenue+1) ,main='Revenue log')\n",
    "plot(log(movies$budget+1) ~ log(movies$revenue+1), main='Revenue vs. Budget')\n",
    "plot(log(movies$Avg_Popularity_5Y_Actor0+1) ~ log(movies$revenue+1), main='Revenue vs. Avg_Popularity_5Y_Actor0')\n",
    "plot(log(movies$Avg_Popularity_5Y_Actor1+1) ~ log(movies$revenue+1),main='Revenue vs. Avg_Popularity_5Y_Actor1')\n",
    "\n",
    "for (n in numlst){\n",
    "    if(!n %in% c('budget','Avg_Popularity_5Y_Actor0','Avg_Popularity_5Y_Actor1')) {\n",
    "        plot(log(movies$revenue+1) ~ movies[[n]], main= n)\n",
    "    }\n",
    "}"
   ]
  },
  {
   "cell_type": "code",
   "execution_count": null,
   "metadata": {},
   "outputs": [],
   "source": [
    "#categoial variables\n",
    "for (v in names(movies[,3:length(movies)])) { #do not use id and title for review\n",
    "    if(is.factor(movies[[v]])==T) {\n",
    "        suppressWarnings(boxplot(log(movies$revenue+1) ~ movies[[v]], main=v, outline=F))\n",
    "    }\n",
    "}"
   ]
  },
  {
   "cell_type": "markdown",
   "metadata": {},
   "source": [
    "The outcome has high positive corraletion to :\n",
    "1. budget\n",
    "2. popularity\n",
    "\n",
    "It is associated with:\n",
    "1. average popularity of main actors (order 0 - positive up to popularity 40 and then negative)\n",
    "2. female/male actor ratio - strong correlation up to ~0.5 and then no correlation\n",
    "3. original language english\n",
    "4. homepage available\n",
    "5. tagline\n",
    "6. top genre\n",
    "\n",
    "variable correlation with:\n",
    "1. keyword count - positive up to 50 and then negative\n",
    "2. in collection - strong positive up to 7 and then negative\n",
    "3. rutime - strong positive bteween 100-200 min and negative beyond 200 min"
   ]
  },
  {
   "cell_type": "markdown",
   "metadata": {},
   "source": [
    "שאלה 2.5\n",
    "זיהוי נתוני קיצון"
   ]
  },
  {
   "cell_type": "code",
   "execution_count": null,
   "metadata": {},
   "outputs": [],
   "source": [
    "options(repr.plot.width = 5, repr.plot.height = 5)\n",
    "for (n in names(movies[3:length(movies)])) {\n",
    "    suppressWarnings(\n",
    "        if (n %in% numlst) {boxplot(movies[[n]],xlab=n, main=n)})\n",
    "}"
   ]
  },
  {
   "cell_type": "markdown",
   "metadata": {},
   "source": [
    "The following variables have ouliers:\n",
    "\n",
    "Popularity,budget,runtime,keyword_cnt,Actor_male_cnt,avg_popularity_5Y_Actor0, avg_popularity_5Y_Actor1, Crew\n",
    "\n",
    "These vars have low number of outliers:\n",
    "\n",
    "Actor_female_cnt,Writing,Directing,Art,Sound, Costume,Production,Camera,Lighting,Editing,"
   ]
  },
  {
   "cell_type": "markdown",
   "metadata": {},
   "source": [
    "שאלה 2.6\n",
    "זיהוי נתונים חסרים"
   ]
  },
  {
   "cell_type": "code",
   "execution_count": null,
   "metadata": {},
   "outputs": [],
   "source": [
    "mm <- mechkar::getMissingness(data = movies)\n",
    "mm$missingness\n",
    "mm$missingness$var"
   ]
  },
  {
   "cell_type": "markdown",
   "metadata": {},
   "source": [
    "שאלה 2.7\n",
    "מטריצת נתונים חסרים"
   ]
  },
  {
   "cell_type": "code",
   "execution_count": null,
   "metadata": {},
   "outputs": [],
   "source": [
    "missingMatrix <- function(data) {\n",
    "    vn <- names(data)\n",
    "    missdata <- data.frame(row1=1:nrow(data))\n",
    "    for(v in vn) {\n",
    "        mv <- ifelse(is.na(data[[v]]),1,0)\n",
    "        missdata[v] <- mv\n",
    "    }\n",
    "    missdata$row1 <- NULL\n",
    "    return(missdata)\n",
    "}"
   ]
  },
  {
   "cell_type": "code",
   "execution_count": null,
   "metadata": {},
   "outputs": [],
   "source": [
    "## generate a missing matrix\n",
    "df_na <- missingMatrix(movies)"
   ]
  },
  {
   "cell_type": "code",
   "execution_count": null,
   "metadata": {},
   "outputs": [],
   "source": [
    "#generate a missing matrix\n",
    "library(naniar)\n",
    "options(repr.plot.width = 20, repr.plot.height = 12)\n",
    "vis_miss(movies,warn_large_data=F)"
   ]
  },
  {
   "cell_type": "markdown",
   "metadata": {},
   "source": [
    "# Univariate Analysis"
   ]
  },
  {
   "cell_type": "markdown",
   "metadata": {},
   "source": [
    "### Popularity"
   ]
  },
  {
   "cell_type": "code",
   "execution_count": null,
   "metadata": {},
   "outputs": [],
   "source": [
    "options(repr.plot.width = 8, repr.plot.height = 8)\n",
    "ggplot(data=movies) +\n",
    "    geom_density(aes(popularity))\n",
    "ggplot(data=movies) +\n",
    "    geom_density(aes(log(popularity+1)))\n",
    "plot(movies$popularity)"
   ]
  },
  {
   "cell_type": "code",
   "execution_count": null,
   "metadata": {
    "scrolled": true
   },
   "outputs": [],
   "source": [
    "length(which(movies$popularity > 10.9))# values higher that Q3\n",
    "length(which(movies$popularity > 25))\n",
    "IQR(movies$popularity)\n",
    "quantile(movies$popularity)"
   ]
  },
  {
   "cell_type": "markdown",
   "metadata": {},
   "source": [
    "we see many ouliers above Q3 (1857 figures)\n",
    "from the scatter plot it seems that we can set threshold for outliers if higher than 25"
   ]
  },
  {
   "cell_type": "code",
   "execution_count": null,
   "metadata": {},
   "outputs": [],
   "source": [
    "options(repr.plot.width = 8, repr.plot.height = 8)\n",
    "plot(runtime ~ popularity, data=movies)\n",
    "plot(revenue_rank ~ popularity, data=movies)\n",
    "plot(keyword_cnt ~ log(popularity)+1, data=movies)\n",
    "plot(actors_female_count ~ log(popularity)+1, data=movies)\n",
    "plot(actors_male_count ~ popularity, data=movies)\n",
    "plot(actors_female_ratio ~ log(popularity)+1, data=movies)"
   ]
  },
  {
   "cell_type": "code",
   "execution_count": null,
   "metadata": {},
   "outputs": [],
   "source": [
    "# explore popularity vs. female/male ratio \n",
    "ggplot(data=movies) +\n",
    "    geom_point(aes(x=actors_female_ratio, y=sqrt(popularity)+0.1))"
   ]
  },
  {
   "cell_type": "markdown",
   "metadata": {},
   "source": [
    "movies with ratio<1 (Less female actors) tend to achive higher popularity"
   ]
  },
  {
   "cell_type": "code",
   "execution_count": null,
   "metadata": {},
   "outputs": [],
   "source": [
    "plot(log(movies$revenue+1) ~ log(movies$popularity+0.1))\n",
    "plot(log(movies$budget+1) ~ log(movies$popularity+0.1))\n",
    "plot(popularity ~ id, data = movies)\n",
    "ggplot(data=movies) +\n",
    "    geom_point(aes(x=id, y=popularity)) +\n",
    "    geom_hline(yintercept = 50,color=\"red\")\n",
    "movies1 <- filter(movies,popularity < 50) # set threshold 50 to analize without ouliers\n",
    "## show relations without outliers in Popularity\n",
    "plot( data=movies1,popularity~revenue )\n",
    "plot(popularity~sqrt(budget) , data=movies1)\n",
    "plot(popularity~keyword_cnt, data=movies1)"
   ]
  },
  {
   "cell_type": "markdown",
   "metadata": {},
   "source": [
    "Found relationship between Popularity and revenue,budget"
   ]
  },
  {
   "cell_type": "code",
   "execution_count": null,
   "metadata": {},
   "outputs": [],
   "source": [
    "### analize categorial variables\n",
    "boxplot(popularity ~ popularity_cat, data = movies)\n",
    "boxplot(popularity ~ runtime_cat, data = movies)\n",
    "boxplot(popularity ~ homepage, data = movies)\n",
    "boxplot(popularity ~ tagline, data = movies)\n",
    "boxplot(popularity ~ in_collection, data = movies)\n",
    "boxplot(popularity ~ original_lang_en, data = movies)\n",
    "boxplot(popularity ~ top_genere, data = movies)\n",
    "boxplot(popularity ~ Directing , data = movies)\n",
    "boxplot(popularity ~ release_year , data = movies, outline=FALSE)\n",
    "boxplot(popularity ~ release_month , data = movies, outline=FALSE)\n",
    "\n",
    "### check tagline and original lang english witout outliers\n",
    "boxplot(popularity ~ tagline, data = movies, outline=FALSE)\n",
    "boxplot(popularity ~ original_lang_en, data = movies, outline=FALSE)"
   ]
  },
  {
   "cell_type": "code",
   "execution_count": null,
   "metadata": {},
   "outputs": [],
   "source": [
    "options(repr.plot.width = 27, repr.plot.height = 8)\n",
    "boxplot(popularity ~ top_genere, data = movies, outline=FALSE)\n",
    "options(repr.plot.width = 8, repr.plot.height = 8)"
   ]
  },
  {
   "cell_type": "markdown",
   "metadata": {},
   "source": [
    "POPULARITY is related to tagline,Original language EN, female/male actor ratio and genere\n",
    "Found anomalies in release year: 2017 has very high values\n",
    "genere - Docomentary has low popularity"
   ]
  },
  {
   "cell_type": "markdown",
   "metadata": {},
   "source": [
    "## Revenue Rank"
   ]
  },
  {
   "cell_type": "code",
   "execution_count": null,
   "metadata": {},
   "outputs": [],
   "source": [
    "summary(movies$revenue_rank)\n",
    "ggplot(data=movies) +\n",
    "    geom_density(aes(revenue_rank))\n",
    "table(movies$revenue_rank)\n",
    "plot(table(movies$revenue_rank))"
   ]
  },
  {
   "cell_type": "code",
   "execution_count": null,
   "metadata": {},
   "outputs": [],
   "source": [
    "ggplot(data=movies) +\n",
    "    geom_point(aes(x=id, y=revenue_rank))"
   ]
  },
  {
   "cell_type": "markdown",
   "metadata": {},
   "source": [
    "Anomalies in movies_id > 3000, probably since these movies have NULL revenue values"
   ]
  },
  {
   "cell_type": "code",
   "execution_count": null,
   "metadata": {},
   "outputs": [],
   "source": [
    "options(repr.plot.width = 8, repr.plot.height = 8)\n",
    "plot(revenue_rank~log(revenue) , data=movies)\n",
    "plot(revenue_rank~log(budget) , data=movies)\n",
    "plot(revenue_rank~runtime, data=movies)\n",
    "plot(revenue_rank~popularity , data=movies)\n",
    "plot(revenue_rank~keyword_cnt , data=movies)\n",
    "plot(revenue_rank ~ actors_female_count, data=movies)\n",
    "plot(revenue_rank~actors_male_count , data=movies)\n",
    "plot(revenue_rank~actors_female_ratio , data=movies)"
   ]
  },
  {
   "cell_type": "code",
   "execution_count": null,
   "metadata": {},
   "outputs": [],
   "source": [
    "boxplot(revenue_rank ~ actors_female_count, data=movies)\n",
    "## No relationship between the variables"
   ]
  },
  {
   "cell_type": "code",
   "execution_count": null,
   "metadata": {},
   "outputs": [],
   "source": [
    "### analize categorial variables\n",
    "boxplot(revenue_rank ~ popularity_cat, data = movies)\n",
    "boxplot(revenue_rank ~ runtime_cat, data = movies)\n",
    "boxplot(revenue_rank ~ homepage, data = movies)\n",
    "boxplot(revenue_rank ~ tagline, data = movies)\n",
    "boxplot(revenue_rank ~ in_collection, data = movies)\n",
    "boxplot(revenue_rank ~ original_lang_en, data = movies)\n",
    "boxplot(revenue_rank ~ Directing , data = movies)\n",
    "boxplot(revenue_rank ~ release_year , data = movies, outline=FALSE)\n",
    "boxplot(revenue_rank ~ release_month , data = movies, outline=FALSE)"
   ]
  },
  {
   "cell_type": "code",
   "execution_count": null,
   "metadata": {},
   "outputs": [],
   "source": [
    "options(repr.plot.width = 27, repr.plot.height = 8)\n",
    "boxplot(revenue_rank ~ top_genere, data = movies)\n",
    "options(repr.plot.width = 8, repr.plot.height = 8)"
   ]
  },
  {
   "cell_type": "code",
   "execution_count": null,
   "metadata": {},
   "outputs": [],
   "source": [
    "# filter only high rank movies (1st quartile) and analyze again\n",
    "high_rev_rank <- movies %>% group_by(release_year) %>% filter(revenue_rank < 28)\n",
    "table(high_rev_rank$revenue_rank)\n",
    "plot(table(high_rev_rank$revenue_rank))"
   ]
  },
  {
   "cell_type": "code",
   "execution_count": null,
   "metadata": {},
   "outputs": [],
   "source": [
    "ggplot(data=high_rev_rank) +\n",
    "    geom_density(aes(revenue_rank))\n",
    "ggplot(data=high_rev_rank) +\n",
    "    geom_point(aes(x=id, y=revenue_rank))"
   ]
  },
  {
   "cell_type": "code",
   "execution_count": null,
   "metadata": {},
   "outputs": [],
   "source": [
    "plot(log(revenue) ~ revenue_rank, data=high_rev_rank)\n",
    "plot(log(budget) ~ revenue_rank, data=high_rev_rank)\n",
    "plot(runtime ~ revenue_rank, data=high_rev_rank)\n",
    "plot(popularity ~ revenue_rank, data=high_rev_rank)\n",
    "plot(keyword_cnt ~ revenue_rank, data=high_rev_rank)\n",
    "plot(revenue_rank ~ actors_female_count, data=high_rev_rank)\n",
    "plot(actors_male_count ~ revenue_rank, data=high_rev_rank)\n",
    "plot(actors_female_ratio ~ revenue_rank, data=high_rev_rank)\n",
    "boxplot(revenue_rank ~ actors_female_count, data=high_rev_rank)"
   ]
  },
  {
   "cell_type": "code",
   "execution_count": null,
   "metadata": {},
   "outputs": [],
   "source": [
    "boxplot(revenue_rank ~ popularity_cat, data = high_rev_rank)\n",
    "boxplot(revenue_rank ~ runtime_cat, data = high_rev_rank)\n",
    "boxplot(revenue_rank ~ homepage, data = high_rev_rank)\n",
    "boxplot(revenue_rank ~ tagline, data = high_rev_rank)\n",
    "boxplot(revenue_rank ~ in_collection, data = high_rev_rank)\n",
    "boxplot(revenue_rank ~ original_lang_en, data = high_rev_rank)\n",
    "boxplot(revenue_rank ~ top_genere, data = high_rev_rank)\n",
    "boxplot(revenue_rank ~ Directing , data = high_rev_rank)\n",
    "boxplot(revenue_rank ~ release_year , data = high_rev_rank, outline=FALSE)\n",
    "boxplot(revenue_rank ~ release_month , data = high_rev_rank, outline=FALSE)"
   ]
  },
  {
   "cell_type": "code",
   "execution_count": null,
   "metadata": {},
   "outputs": [],
   "source": [
    "options(repr.plot.width = 27, repr.plot.height = 8)\n",
    "boxplot(revenue_rank ~ top_genere, data = high_rev_rank)\n",
    "options(repr.plot.width = 8, repr.plot.height = 8)"
   ]
  },
  {
   "cell_type": "markdown",
   "metadata": {},
   "source": [
    "REVENUE RANK - Found relationship between revenue rank to homepage, collection, original lang EN and genre 'Western'\n",
    "relationship is weaker (genre,homepage) when looking at high rank movies only"
   ]
  },
  {
   "cell_type": "markdown",
   "metadata": {},
   "source": [
    "## Runtime"
   ]
  },
  {
   "cell_type": "code",
   "execution_count": null,
   "metadata": {},
   "outputs": [],
   "source": [
    "summary(movies$runtime)\n",
    "plot(runtime~id,data=movies)\n",
    "table(movies$runtime)\n",
    "ggplot(data=movies) +\n",
    "    geom_density(aes(runtime))\n",
    "### normal distribution"
   ]
  },
  {
   "cell_type": "code",
   "execution_count": null,
   "metadata": {},
   "outputs": [],
   "source": [
    "plot(runtime~log(revenue), data=movies)\n",
    "plot(runtime~log(budget) , data=movies)\n",
    "plot(sqrt(runtime)~ sqrt(popularity), data=movies)\n",
    "plot(runtime~keyword_cnt, data=movies)\n",
    "plot(runtime~revenue_rank , data=movies)\n",
    "plot(runtime~actors_male_count, data=movies)\n",
    "plot(runtime~actors_female_ratio , data=movies)"
   ]
  },
  {
   "cell_type": "code",
   "execution_count": null,
   "metadata": {},
   "outputs": [],
   "source": [
    "### analize categorial variables\n",
    "options(repr.plot.width = 8, repr.plot.height = 8)\n",
    "boxplot(runtime ~ popularity_cat, data = movies)\n",
    "boxplot(runtime ~ runtime_cat, data = movies)\n",
    "boxplot(runtime ~ homepage, data = movies)\n",
    "boxplot(runtime ~ tagline, data = movies)\n",
    "boxplot(runtime ~ in_collection, data = movies)\n",
    "boxplot(runtime ~ original_lang_en, data = movies)\n",
    "boxplot(runtime ~ top_genere, data = movies)\n",
    "boxplot(runtime ~ Directing , data = movies)\n",
    "boxplot(runtime ~ release_year , data = movies, outline=FALSE)\n",
    "boxplot(runtime ~ release_month , data = movies, outline=FALSE)\n",
    "boxplot(runtime ~ top_genere , data = movies, outline=FALSE)"
   ]
  },
  {
   "cell_type": "markdown",
   "metadata": {},
   "source": [
    "RUNTIME - No relationship with other variables"
   ]
  },
  {
   "cell_type": "markdown",
   "metadata": {},
   "source": [
    "## Budget"
   ]
  },
  {
   "cell_type": "code",
   "execution_count": null,
   "metadata": {},
   "outputs": [],
   "source": [
    "summary(movies$budget)\n",
    "ggplot(data=movies) +\n",
    "    geom_density(aes(sqrt(budget+0.1)))\n",
    "ggplot(data=movies) +\n",
    "    geom_point(aes(x=id, y=budget))"
   ]
  },
  {
   "cell_type": "code",
   "execution_count": null,
   "metadata": {},
   "outputs": [],
   "source": [
    "plot(revenue ~ budget, data=movies)\n",
    "plot(budget~revenue_rank, data=movies)\n",
    "plot(budget~runtime, data=movies)\n",
    "plot(budget~popularity , data=movies)\n",
    "plot(budget~keyword_cnt, data=movies)\n",
    "plot(budget~actors_female_ratio, data=movies)"
   ]
  },
  {
   "cell_type": "code",
   "execution_count": null,
   "metadata": {},
   "outputs": [],
   "source": [
    "options(repr.plot.width = 8, repr.plot.height = 8)\n",
    "boxplot(budget ~ popularity_cat, data = movies, outline=FALSE)\n",
    "boxplot(budget ~ runtime_cat, data = movies)\n",
    "boxplot(budget ~ homepage, data = movies)\n",
    "boxplot(budget ~ tagline, data = movies)\n",
    "boxplot(budget ~ in_collection, data = movies)\n",
    "boxplot(sqrt(budget) ~ original_lang_en, data = movies)\n",
    "boxplot(budget ~ Directing , data = movies)\n",
    "boxplot(budget ~ release_year , data = movies, outline=FALSE)\n",
    "boxplot(budget ~ release_month , data = movies, outline=FALSE)"
   ]
  },
  {
   "cell_type": "code",
   "execution_count": null,
   "metadata": {},
   "outputs": [],
   "source": [
    "options(repr.plot.width = 27, repr.plot.height = 8)\n",
    "boxplot(budget ~ top_genere , data = movies, outline=FALSE)"
   ]
  },
  {
   "cell_type": "markdown",
   "metadata": {},
   "source": [
    "BUDGET - is in correlation with revenue,popularity_cat, runtime_cat(weak), original_lang_EN, Top_genre - Docometary and foreign movies have significant low budget"
   ]
  },
  {
   "cell_type": "markdown",
   "metadata": {},
   "source": [
    "## actors_female_count"
   ]
  },
  {
   "cell_type": "code",
   "execution_count": null,
   "metadata": {},
   "outputs": [],
   "source": [
    "summary(movies$actors_female_count)\n",
    "table(movies$actors_female_count)\n",
    "barplot(table(movies$actors_female_count))"
   ]
  },
  {
   "cell_type": "code",
   "execution_count": null,
   "metadata": {},
   "outputs": [],
   "source": [
    "ggplot(movies, aes(x = actors_female_count, y = log(budget)))+\n",
    "    geom_point()\n",
    "boxplot(log(revenue)~actors_female_count, data=movies)\n",
    "boxplot(revenue_rank~actors_female_count, data=movies)\n",
    "ggplot(movies, aes(x = actors_female_count, y = runtime))+\n",
    "    geom_point()\n",
    "boxplot(sqrt(popularity)~actors_female_count , data=movies,outline=FALSE)\n",
    "boxplot(keyword_cnt~actors_female_count, data=movies,outline=FALSE)\n",
    "plot(actors_male_count~actors_female_count, data=movies)\n",
    "plot(actors_female_ratio~actors_female_count, data=movies)\n",
    "ggplot(movies, aes(x = release_year , y = actors_female_count))+\n",
    "    geom_point()\n"
   ]
  },
  {
   "cell_type": "code",
   "execution_count": null,
   "metadata": {},
   "outputs": [],
   "source": [
    "options(repr.plot.width = 16, repr.plot.height = 8)\n",
    "library(gmodels)\n",
    "\n",
    "ggplot(data=movies) +\n",
    "    geom_bar(aes(actors_female_count, group=popularity_cat, color=popularity_cat),position = 'dodge')\n",
    "ggplot(data=movies) +\n",
    "    geom_bar(aes(actors_female_count, group=runtime_cat, color=runtime_cat),position = 'dodge')\n",
    "ggplot(data=movies) +\n",
    "    geom_density(aes(actors_female_count, group=homepage, color=homepage))\n",
    "ggplot(data=movies) +\n",
    "    geom_bar(aes(actors_female_count, group=tagline, color=tagline),position = 'dodge')\n",
    "ggplot(data=movies) +\n",
    "    geom_bar(aes(actors_female_count, group=original_lang_en, color=original_lang_en),position = 'dodge')"
   ]
  },
  {
   "cell_type": "markdown",
   "metadata": {},
   "source": [
    "Variable: FEMALE_ACTOR_COUNT is related to many variables: budget,revenue,Popularity,keyword_cnt,release year and male_Actor_count"
   ]
  },
  {
   "cell_type": "markdown",
   "metadata": {},
   "source": [
    "### Male_actor_count"
   ]
  },
  {
   "cell_type": "code",
   "execution_count": null,
   "metadata": {},
   "outputs": [],
   "source": [
    "summary(movies$actors_male_count)\n",
    "table(movies$actors_male_count)\n",
    "barplot(table(movies$actors_male_count))\n",
    "ggplot(movies, aes(x = id , y = actors_male_count))+\n",
    "    geom_point()"
   ]
  },
  {
   "cell_type": "code",
   "execution_count": null,
   "metadata": {},
   "outputs": [],
   "source": [
    "ggplot(movies, aes(x = actors_male_count, y = log(budget)))+\n",
    "    geom_point()\n",
    "boxplot(log(revenue)~actors_male_count, data=movies)\n",
    "boxplot(revenue_rank~actors_male_count, data=movies)\n",
    "ggplot(movies, aes(x = actors_male_count, y = runtime))+\n",
    "    geom_point()\n",
    "boxplot(sqrt(popularity)~actors_male_count , data=movies,outline=FALSE)\n",
    "boxplot(keyword_cnt~actors_male_count, data=movies,outline=FALSE)\n",
    "plot(actors_female_count~actors_male_count, data=movies)\n",
    "plot(actors_female_ratio~actors_male_count, data=movies)\n",
    "plot(release_month~actors_male_count, data=movies)"
   ]
  },
  {
   "cell_type": "code",
   "execution_count": null,
   "metadata": {},
   "outputs": [],
   "source": [
    "ggplot(movies, aes(x = actors_male_count, y = budget))+\n",
    "    geom_point()\n",
    "\n",
    "ggplot(data=movies) +\n",
    "    geom_bar(aes(actors_male_count, group=popularity_cat, color=popularity_cat),position = 'dodge')\n",
    "ggplot(data=movies) +\n",
    "    geom_bar(aes(actors_male_count, group=runtime_cat, color=runtime_cat),position = 'dodge')\n",
    "ggplot(data=movies) +\n",
    "    geom_density(aes(actors_male_count, group=homepage, color=homepage))\n",
    "ggplot(data=movies) +\n",
    "    geom_bar(aes(actors_male_count, group=tagline, color=tagline),position = 'dodge')\n",
    "ggplot(data=movies) +\n",
    "    geom_bar(aes(actors_male_count, group=original_lang_en, color=original_lang_en),position = 'dodge')"
   ]
  },
  {
   "cell_type": "code",
   "execution_count": null,
   "metadata": {},
   "outputs": [],
   "source": [
    "str(movies$actors_male_count)\n",
    "ggplot(movies, aes(x = release_year , y = actors_male_count))+\n",
    "    geom_point()"
   ]
  },
  {
   "cell_type": "markdown",
   "metadata": {},
   "source": [
    "Variable: MALE_ACTOR_COUNT is related to female_Actor_count,release year and weak relation to keyword_cnt"
   ]
  },
  {
   "cell_type": "markdown",
   "metadata": {},
   "source": [
    "### Genre"
   ]
  },
  {
   "cell_type": "code",
   "execution_count": null,
   "metadata": {
    "scrolled": true
   },
   "outputs": [],
   "source": [
    "options(repr.plot.width = 26, repr.plot.height = 8)\n",
    "ggplot(data=movies) +\n",
    "    geom_bar(aes(top_genere))\n",
    "table(movies$top_genere)"
   ]
  },
  {
   "cell_type": "code",
   "execution_count": null,
   "metadata": {
    "scrolled": false
   },
   "outputs": [],
   "source": [
    "options(repr.plot.width = 26, repr.plot.height = 8)\n",
    "plot(revenue~top_genere , data=movies,outline=FALSE)\n",
    "plot(budget~top_genere , data=movies,outline=FALSE)\n",
    "plot(runtime~top_genere, data=movies)\n",
    "plot(popularity~top_genere , data=movies,outline=FALSE)\n",
    "plot(keyword_cnt~top_genere , data=movies,outline=FALSE)\n",
    "plot(actors_female_count~top_genere, data=movies,outline=FALSE)\n",
    "plot(actors_male_count~top_genere , data=movies,outline=FALSE)\n",
    "plot(actors_female_ratio~top_genere , data=movies,outline=FALSE)\n",
    "\n",
    "ggplot(data=movies) +\n",
    "    geom_bar(aes(top_genere, group=runtime_cat, color=runtime_cat),position = 'dodge')\n",
    "ggplot(data=movies) +\n",
    "    geom_bar(aes(top_genere, group=homepage, color=homepage),position = 'dodge')\n",
    "ggplot(data=movies) +\n",
    "    geom_bar(aes(top_genere, group=tagline, color=tagline),position = 'dodge')\n",
    "\n",
    "options(repr.plot.width = 8, repr.plot.height = 8)"
   ]
  },
  {
   "cell_type": "markdown",
   "metadata": {},
   "source": [
    "GENRE is related to budget and revenue. Further more- Docomentry genere is related to Low popularity and low number of female actors"
   ]
  },
  {
   "cell_type": "markdown",
   "metadata": {},
   "source": [
    "### Languages\n",
    "original_lang_en"
   ]
  },
  {
   "cell_type": "code",
   "execution_count": null,
   "metadata": {},
   "outputs": [],
   "source": [
    "table(movies$original_lang_en)\n",
    "options(repr.plot.width = 8, repr.plot.height = 8)\n",
    "ggplot(data=movies) +\n",
    "    geom_density(aes(release_year, group=original_lang_en, color=original_lang_en))"
   ]
  },
  {
   "cell_type": "code",
   "execution_count": null,
   "metadata": {},
   "outputs": [],
   "source": [
    "#show distribution for all languages which are not emglish as original language\n",
    "movie_lang <- movies %>% filter(original_lang_en == 0)%>% select(id,en,fr,ru,es,de,it,ja)\n",
    "movies2 <- movies %>% filter(original_lang_en == '0')# %>% select(id,original_title,es,de,ru,fr,ja,it,en)\n",
    "\n",
    "movie_lang$en <- as.numeric(as.character(movie_lang$en))\n",
    "movie_lang$es <- as.numeric(as.character(movie_lang$es))\n",
    "movie_lang$fr <- as.numeric(as.character(movie_lang$fr))\n",
    "movie_lang$de <- as.numeric(as.character(movie_lang$de))\n",
    "movie_lang$ru <- as.numeric(as.character(movie_lang$ru))\n",
    "movie_lang$it <- as.numeric(as.character(movie_lang$it))\n",
    "movie_lang$ja <- as.numeric(as.character(movie_lang$ja))\n",
    "movie_lang <- movie_lang %>% mutate(total_en_not_original = rowSums(movie_lang[,2:8]))\n",
    "\n",
    "movie_lang <- movie_lang %>% mutate(across(everything(), ~ ifelse(is.na(.), 0, .)))\n",
    "total_cnt_lang <- apply(movie_lang[,2:9],2,sum)\n",
    "barplot(total_cnt_lang[1:7])"
   ]
  },
  {
   "cell_type": "markdown",
   "metadata": {},
   "source": [
    "English and French are the most common languages for films that weren't in English as original lang."
   ]
  },
  {
   "cell_type": "markdown",
   "metadata": {},
   "source": [
    "### Avg_Popularity_5Y_Actor0, Avg_Popularity_5Y_Actor1"
   ]
  },
  {
   "cell_type": "code",
   "execution_count": null,
   "metadata": {},
   "outputs": [],
   "source": [
    "summary(movies$Avg_Popularity_5Y_Actor0)\n",
    "summary(movies$Avg_Popularity_5Y_Actor1)\n",
    "ggplot(data=movies) +\n",
    "    geom_density(aes(log(Avg_Popularity_5Y_Actor0+1)))\n",
    "ggplot(data=movies) +\n",
    "    geom_density(aes(log(Avg_Popularity_5Y_Actor1+1)))"
   ]
  },
  {
   "cell_type": "code",
   "execution_count": null,
   "metadata": {},
   "outputs": [],
   "source": [
    "for (v in names(movies[,2:length(movies)])) {\n",
    "    if(is.numeric(movies[[v]])==T & v != \"Avg_Popularity_5Y_Actor0\") {\n",
    "        plot(log(movies$Avg_Popularity_5Y_Actor0+1) ~ movies[[v]], main=v)\n",
    "    }\n",
    "}"
   ]
  },
  {
   "cell_type": "code",
   "execution_count": null,
   "metadata": {},
   "outputs": [],
   "source": [
    "for (v in names(movies[,2:length(movies)])) {\n",
    "    if(is.factor(movies[[v]])==T) {\n",
    "        suppressWarnings(plot(log(movies$Avg_Popularity_5Y_Actor0+1) ~ movies[[v]], main=v, outline=F))\n",
    "    }\n",
    "}"
   ]
  },
  {
   "cell_type": "markdown",
   "metadata": {},
   "source": [
    "# Outliers"
   ]
  },
  {
   "cell_type": "markdown",
   "metadata": {},
   "source": [
    "שאלה 3.1\n",
    "התפלגות של המשתנה עם ובלי ערכי הקיצון"
   ]
  },
  {
   "cell_type": "code",
   "execution_count": null,
   "metadata": {},
   "outputs": [],
   "source": [
    "numlst <- numlst[2:length(numlst)] # remove id variable"
   ]
  },
  {
   "cell_type": "code",
   "execution_count": null,
   "metadata": {},
   "outputs": [],
   "source": [
    "# Create a categorial variable for Revenue\n",
    "movies$revenue_cat <- ifelse(movies$revenue>16810000,1,0) # median of revenue is 16,810,000\n",
    "summary(movies$revenue_cat)"
   ]
  },
  {
   "cell_type": "code",
   "execution_count": null,
   "metadata": {},
   "outputs": [],
   "source": [
    "outlierMatrix <- function(data,threshold=1.5) {\n",
    "    vn <- names(data)\n",
    "    outdata <- data.frame(row1=1:nrow(data))\n",
    "    for(v in vn) {\n",
    "        if(is.numeric(data[[v]])) {\n",
    "            outlow <- quantile(data[[v]],probs = 0.25,na.rm = T) \n",
    "            outhigh <- quantile(data[[v]],probs = 0.75, na.rm = T)\n",
    "            irq_level <- (outhigh - outlow) * threshold\n",
    "            outlow <- outlow - irq_level\n",
    "            outhigh <- outhigh +  irq_level\n",
    "            mv <- ifelse(data[[v]] < outlow | data[[v]] > outhigh, 1, 0)\n",
    "            outdata[v] <- mv\n",
    "        } else {\n",
    "            mv <- rep(0,nrow(data))\n",
    "        }\n",
    "    }\n",
    "    outdata$row1 <- NULL\n",
    "    return(outdata)\n",
    "}"
   ]
  },
  {
   "cell_type": "code",
   "execution_count": null,
   "metadata": {},
   "outputs": [],
   "source": [
    "m_out <- outlierMatrix(movies)\n",
    "summary(m_out)"
   ]
  },
  {
   "cell_type": "markdown",
   "metadata": {},
   "source": [
    "שאלה 3.1.1 \n",
    "בדיקת השפעת נתוני הקיצון על התפלגות המשתנים"
   ]
  },
  {
   "cell_type": "code",
   "execution_count": null,
   "metadata": {},
   "outputs": [],
   "source": [
    "# Check for Distribution change with/without outliers values\n",
    "res1 <- NULL\n",
    "for (n in numlst) {\n",
    "    out <- movies[[n]]\n",
    "    non <- movies[[n]][which(m_out[[n]]==0)]\n",
    "    outnum <- length(out) - length(non)\n",
    "    pval <- suppressWarnings(ks.test(out,non)$p.value)\n",
    "    res1 <- rbind(res1, cbind(var=n, outliers_cnt=outnum, distributation_chg=ifelse(pval<0.05,'+','-')))\n",
    "}\n",
    "res1 "
   ]
  },
  {
   "cell_type": "code",
   "execution_count": null,
   "metadata": {},
   "outputs": [],
   "source": [
    "# Test difference in distribution with/without missing valus for all vars\n",
    "options(repr.plot.width = 10, repr.plot.height = 8)\n",
    "for (n in numlst){\n",
    "    if (n %in% c('popularity','budget')){\n",
    "        hist(log(movies[[n]]+1), breaks=30, col=rgb(1,0,0,0.5),main=n, xlab=n, ylab=\"frequency\")\n",
    "        hist(log(movies[[n]][which(m_out[[n]]==0)]+1), breaks=30, col=rgb(0,0,1,0.5), add=T,xlab= c(n,\"w/o outliers\"))\n",
    "        legend(\"topright\", legend=c(\"with Outliers\",\"without Outliers\"), col=c(rgb(1,0,0,0.5), \n",
    "         rgb(0,0,1,0.5)), pt.cex=2, pch=15 )\n",
    "        }\n",
    "    else {\n",
    "        hist(movies[[n]], breaks=30, col=rgb(1,0,0,0.5),main=n, xlab=n, ylab=\"frequency\")\n",
    "        hist(movies[[n]][which(m_out[[n]]==0)], breaks=30, col=rgb(0,0,1,0.5), add=T,xlab= c(n,\"w/o outliers\"))\n",
    "        legend(\"topright\", legend=c(\"with Outliers\",\"without Outliers\"), col=c(rgb(1,0,0,0.5), \n",
    "         rgb(0,0,1,0.5)), pt.cex=2, pch=15 )\n",
    "    }\n",
    "}"
   ]
  },
  {
   "cell_type": "markdown",
   "metadata": {},
   "source": [
    "שאלה 3.1.2\n",
    "השוואת של כל המשתנים מול משתנה המטרה עם/ללא נתוני קיצון "
   ]
  },
  {
   "cell_type": "code",
   "execution_count": null,
   "metadata": {},
   "outputs": [],
   "source": [
    "#check correlation with revenue with/without outliers for all numeric vars\n",
    "options(repr.plot.width = 10, repr.plot.height = 10)\n",
    "for (n in numlst) {\n",
    "    plot(movies[[n]], movies$revenue, main=n, xlab=n,col=rgb(1,0,0,0.5), ylab='Revenue')\n",
    "    points(movies[[n]][which(m_out[[n]]==0)], movies$revenue[which(m_out[[n]]==0)],col=rgb(0,1,0,0.5),ylab='Revenue', pch=10)\n",
    "    legend(\"topright\", legend=c(\"with Outliers\",\"without Outliers\"), col=c(rgb(1,0,0,0.5), \n",
    "     rgb(0,1,0,0.5)), pt.cex=2, pch=15 )\n",
    "}"
   ]
  },
  {
   "cell_type": "code",
   "execution_count": null,
   "metadata": {},
   "outputs": [],
   "source": [
    "# Check for Correlation change with/without outliers values\n",
    "library(cocor)\n",
    "res2 <- NULL\n",
    "movies_non <- NULL\n",
    "for (n in numlst[c(1:18,20)]) { #problem with Lighting variable- discard it from the test\n",
    "    out <- movies[[n]]\n",
    "    non <- movies[[n]][which(m_out[[n]]==0)]\n",
    "    revenue_out <- as.numeric(movies$revenue_cat)\n",
    "    revenue_non <- revenue_out[which(m_out[n]==0)]\n",
    "    outdf <- data.frame(x_out=out,y_out=revenue_out)\n",
    "    nondf <- data.frame(x_non=non,y_non=revenue_non)\n",
    "    movies_non <- suppressWarnings(cbind(movies_non,non))\n",
    "    \n",
    "    cr <- suppressWarnings(cocor(~ x_out+y_out | x_non+y_non, data=list(outdf,nondf)))\n",
    "    pval <- cr@fisher1925$p.value\n",
    "    res2 <- rbind(res2, cbind(var=n, correlation_changed=ifelse(pval<0.05,'+','-')))\n",
    "}\n",
    "res2"
   ]
  },
  {
   "cell_type": "code",
   "execution_count": null,
   "metadata": {},
   "outputs": [],
   "source": [
    "library(tidyr)\n",
    "res1 <- data.frame(res1)\n",
    "res2 <- data.frame(res2)\n",
    "res3 <- plyr::join(res1,res2,by='var',type= 'inner')\n",
    "res3$drop <- ifelse(res3$distributation_chg == '+' & res3$correlation_changed == '+' , 'NO','YES')\n",
    "res3"
   ]
  },
  {
   "cell_type": "markdown",
   "metadata": {},
   "source": [
    "Remove outliers\n",
    "שאלה 3.1.3"
   ]
  },
  {
   "cell_type": "code",
   "execution_count": null,
   "metadata": {},
   "outputs": [],
   "source": [
    "remove_outliers <- function(x, na.rm = TRUE, ...) {\n",
    "  qnt <- quantile(x, probs=c(.25, .75), na.rm = na.rm, ...)\n",
    "  H <- 1.5 * IQR(x, na.rm = na.rm)\n",
    "  y <- x\n",
    "  y[x < (qnt[1] - H)] <- NA\n",
    "  y[x > (qnt[2] + H)] <- NA\n",
    "  y\n",
    "}"
   ]
  },
  {
   "cell_type": "code",
   "execution_count": null,
   "metadata": {},
   "outputs": [],
   "source": [
    "# Remove outliers\n",
    "for (row in 1:nrow(res3)) {\n",
    "    x <- res3[row,'drop']\n",
    "    y <- res3[row,'var']\n",
    "    if(x == 'YES') {      \n",
    "        movies[[y]] <- remove_outliers( movies[[y]])\n",
    "        print(y)\n",
    "        }\n",
    "}"
   ]
  },
  {
   "cell_type": "markdown",
   "metadata": {},
   "source": [
    "Keep outliers for Popularity,Budget,Avg_Popularity_5Y_Actor0, Crew departments (Art,Sound,Crew,Costume,Camera)"
   ]
  },
  {
   "cell_type": "markdown",
   "metadata": {},
   "source": [
    "# Missing Values"
   ]
  },
  {
   "cell_type": "markdown",
   "metadata": {},
   "source": [
    "Few variables have missing values\n",
    "I'll look for correlation with other varriables for explaination"
   ]
  },
  {
   "cell_type": "code",
   "execution_count": null,
   "metadata": {},
   "outputs": [],
   "source": [
    "df_na <- df_na[,mm$missingness$var]\n",
    "library(corrgram)\n",
    "corrgram(df_na, order=TRUE, lower.panel=panel.shade,\n",
    "  upper.panel=panel.pie, text.panel=panel.txt,\n",
    "  main=\"Missingness correlation\")"
   ]
  },
  {
   "cell_type": "markdown",
   "metadata": {},
   "source": [
    "The variables: Actor male/female count have correlation with all the variables of the crew departments.\n",
    "Avg_popularity actor0 is in correlation with male/female count\n",
    "All other variables have NO apperent correlation with other vars"
   ]
  },
  {
   "cell_type": "code",
   "execution_count": null,
   "metadata": {},
   "outputs": [],
   "source": [
    " sapply(movies, function(x) length(unique(x)))"
   ]
  },
  {
   "cell_type": "code",
   "execution_count": null,
   "metadata": {},
   "outputs": [],
   "source": [
    "### test the missing mechanism using glm\n",
    "nm <- setdiff(names(movies),c(\"id\",\"original_title\",\"revenue\",\"revenue_cat\"))\n",
    "\n",
    "res <- NULL\n",
    "\n",
    "for (m in mm$missingness$var) {\n",
    "    ## change the current tested variable with the missing indicator for this variable\n",
    "    ff <- movies[,nm[c(1:4,5:6,9:26:37)]]#,7:24,37)]]# some variable cannot be used in the glm model \n",
    "                                        # ERROR \"contrasts can be applied only to factors with 2 or more levels\"\n",
    "    ff[[m]] <- df_na[[m]]\n",
    "    mod <- suppressWarnings(glm(ff[[m]] ~.,data=ff,family=\"binomial\"))\n",
    "    sm <- summary(mod)\n",
    "    if(is.null(sm)==F) {\n",
    "      sm2 <- data.frame(var=row.names(sm$coefficients),pvalue=sm$coefficients[,4])\n",
    "      res <- rbind(res, cbind(m,sm2))\n",
    "    } else {\n",
    "      print(sm)\n",
    "    }\n",
    "}\n",
    "\n",
    "row.names(res) <- NULL\n",
    "res"
   ]
  },
  {
   "cell_type": "code",
   "execution_count": null,
   "metadata": {},
   "outputs": [],
   "source": [
    "getMissingness <- function (data, getRows = FALSE) {\n",
    "    require(dplyr)\n",
    "    l <- nrow(data)\n",
    "    vn <- names(data)\n",
    "    nadf <- data\n",
    "    cnt <- NULL\n",
    "    miss <- function(x) return(sum(is.na(x)))\n",
    "    for (n in vn) {\n",
    "        nadf[[n]] <- ifelse(is.na(nadf[[n]]) == T, 1, 0)\n",
    "        cnt <- rbind(cnt, data.frame(n, sum(nadf[[n]])))\n",
    "    }\n",
    "    names(cnt) <- c(\"var\", \"na.count\")\n",
    "    cnt$rate <- round((cnt$na.count/nrow(nadf)) * 100, 1)\n",
    "    nadf$na.cnt <- 0\n",
    "    nadf$na.cnt <- rowSums(nadf)\n",
    "    cnt <- cnt %>% dplyr::arrange(desc(na.count)) %>% dplyr::filter(na.count > \n",
    "        0)\n",
    "    totmiss <- nadf %>% dplyr::filter(na.cnt == 0) %>% dplyr::tally()\n",
    "    idx <- NULL\n",
    "    msg <- (paste(\"This dataset has \", as.character(totmiss), \n",
    "        \" (\", as.character(round(totmiss/nrow(data) * 100, 1)), \n",
    "        \"%)\", \" complete rows. Original data has \", nrow(data), \n",
    "        \" rows.\", sep = \"\"))\n",
    "    if (getRows == TRUE & totmiss != 0) {\n",
    "        nadf$rn <- seq_len(nrow(data))\n",
    "        idx <- nadf %>% dplyr::filter(na.cnt == 0) %>% dplyr::select(rn)\n",
    "    }\n",
    "    print(list(head(cnt, n = 10), msg))\n",
    "    return(list(missingness = cnt, message = msg, rows = idx$rn))\n",
    "}"
   ]
  },
  {
   "cell_type": "code",
   "execution_count": null,
   "metadata": {},
   "outputs": [],
   "source": [
    "res <- data.frame(res)\n",
    "row.names(res) <- NULL\n",
    "res %>% filter(pvalue<0.05)"
   ]
  },
  {
   "cell_type": "markdown",
   "metadata": {},
   "source": [
    "None of the variables can explain the missing values"
   ]
  },
  {
   "cell_type": "code",
   "execution_count": null,
   "metadata": {},
   "outputs": [],
   "source": [
    "mm <- getMissingness(data = movies)"
   ]
  },
  {
   "cell_type": "code",
   "execution_count": null,
   "metadata": {},
   "outputs": [],
   "source": [
    "# check lines with large number of missing values\n",
    "dfna_sum <- df_na\n",
    "dfna_sum$pct <- rowSums(df_na)/ncol(df_na)\n",
    "dfna_sum$var <- col(df_na)\n",
    "dfna_sum %>% group_by(pct) %>% tally"
   ]
  },
  {
   "cell_type": "markdown",
   "metadata": {},
   "source": [
    "drop rows which have more than 50% missing values"
   ]
  },
  {
   "cell_type": "code",
   "execution_count": null,
   "metadata": {},
   "outputs": [],
   "source": [
    "movies$drop <- ifelse(dfna_sum$pct >= 0.5,1,0)\n",
    "movies <- movies %>% filter(movies$drop==0)\n",
    "movies$drop <- NULL\n",
    "df_na <- missingMatrix(movies)"
   ]
  },
  {
   "cell_type": "code",
   "execution_count": null,
   "metadata": {},
   "outputs": [],
   "source": [
    "# after dropping lines with high % of missing values\n",
    "dfna_sum <- df_na\n",
    "dfna_sum$pct <- rowSums(df_na)/ncol(df_na)\n",
    "dfna_sum %>% group_by(pct) %>% tally"
   ]
  },
  {
   "cell_type": "code",
   "execution_count": null,
   "metadata": {},
   "outputs": [],
   "source": [
    "# Missing heatmap after removing the lines\n",
    "library(naniar)\n",
    "options(repr.plot.width = 20, repr.plot.height = 12)\n",
    "vis_miss(movies[1:40],warn_large_data=F)"
   ]
  },
  {
   "cell_type": "code",
   "execution_count": null,
   "metadata": {},
   "outputs": [],
   "source": [
    "library(gridExtra)\n",
    "options(repr.plot.width = 12, repr.plot.height = 12)\n",
    "for(m in mm$missingness$var) {\n",
    "    p <- list()\n",
    "    i <- 1\n",
    "    for (v in numlst[2:length(numlst)]) {\n",
    "        if (v != m) {\n",
    "            ff <- data.frame(v=movies[[v]],m=factor(df_na[[m]]))\n",
    "            p[[i]] <- suppressMessages(ggplot(data=ff,aes(x=v,group=m,color=m)) +\n",
    "                geom_density()+labs(title=paste(v, \"(miss=\", m,\")\"),x=v))\n",
    "            i <- i+1\n",
    "        }\n",
    "    }\n",
    "    do.call(grid.arrange,p)\n",
    "}"
   ]
  },
  {
   "cell_type": "markdown",
   "metadata": {},
   "source": [
    "The variables: revenue_rank and female_actor_ratio seem to have different distribution when removing missing values.\n",
    "I'll check for significent difference using Kolmogorov-Smirnov"
   ]
  },
  {
   "cell_type": "code",
   "execution_count": null,
   "metadata": {},
   "outputs": [],
   "source": [
    "res4 <- NULL\n",
    "for (m in mm$missingness$var) {\n",
    "    p <- list()\n",
    "    for (n in numlst) {\n",
    "        if (n != m) {\n",
    "            miss <- movies[[n]]\n",
    "            non <- movies[[n]][which(df_na[[n]]==0)]\n",
    "            missnum <- length(miss) - length(non)\n",
    "            pval <- suppressWarnings(ks.test(miss, non)$p.value)\n",
    "            res4 <- rbind(res4, cbind(var=n,missing=m, miss_cnt=missnum, distribution_changed=ifelse(pval<0.05,1,0)))\n",
    "            }\n",
    "    }\n",
    "}\n",
    "res4"
   ]
  },
  {
   "cell_type": "code",
   "execution_count": null,
   "metadata": {},
   "outputs": [],
   "source": [
    "res4 <- data.frame(res4)\n",
    "res4 %>% filter(res4$distribution_changed=='1')"
   ]
  },
  {
   "cell_type": "markdown",
   "metadata": {},
   "source": [
    "I haven't found any variable that can explain the missing values thus I can assume at least MAR"
   ]
  },
  {
   "cell_type": "code",
   "execution_count": null,
   "metadata": {},
   "outputs": [],
   "source": [
    "#install.packages(\"VIM\")\n",
    "library(mice)\n",
    "library(VIM)\n",
    "missing_plot <- aggr(movies, col=c('navyblue','yellow'),\n",
    "                    numbers=TRUE, sortVars=TRUE,\n",
    "                    labels=names(movies), cex.axis=.7,\n",
    "                    gap=3, ylab=c(\"Missing data\",\"Pattern\"))"
   ]
  },
  {
   "cell_type": "markdown",
   "metadata": {},
   "source": [
    "I have found that all the missing values are MAR and I'll use KNN algorithem to fill the NA's"
   ]
  },
  {
   "cell_type": "code",
   "execution_count": null,
   "metadata": {},
   "outputs": [],
   "source": [
    "library(colorspace)\n",
    "library(VIM)\n",
    "df <- movies[c(1,3:4,6:(length(movies)-1))]\n",
    "movies_imp <- kNN(df,k=5)"
   ]
  },
  {
   "cell_type": "markdown",
   "metadata": {},
   "source": [
    "# חלק 4"
   ]
  },
  {
   "cell_type": "code",
   "execution_count": null,
   "metadata": {},
   "outputs": [],
   "source": [
    "movies_imp$revenue <- movies$revenue\n",
    "colnames(movies_imp)\n",
    "indx <- grepl('imp', colnames(movies_imp))\n",
    "movies_imp <- movies_imp[!indx]"
   ]
  },
  {
   "cell_type": "code",
   "execution_count": null,
   "metadata": {},
   "outputs": [],
   "source": [
    "tab1 <- suppressWarnings(mechkar::Table1(data=movies_imp[,3:ncol(movies_imp)]))"
   ]
  },
  {
   "cell_type": "code",
   "execution_count": null,
   "metadata": {},
   "outputs": [],
   "source": [
    "suppressWarnings(mechkar::exploreData(data=movies_imp,y=\"revenue\",dir=\"/Users/maozdotan/Documents/DS\"))"
   ]
  },
  {
   "cell_type": "code",
   "execution_count": null,
   "metadata": {},
   "outputs": [],
   "source": [
    "options(repr.plot.width = 5, repr.plot.height = 5)\n",
    "for (n in names(movies_imp[3:length(movies_imp)])) {\n",
    "    suppressWarnings(\n",
    "        if (n %in% numlst) {hist(movies_imp[[n]],xlab=n, main=n)}\n",
    "    else {plot(movies_imp[[n]],main=n)})\n",
    "}"
   ]
  },
  {
   "cell_type": "code",
   "execution_count": null,
   "metadata": {},
   "outputs": [],
   "source": [
    "library(MESS)\n",
    "####\n",
    "options(repr.plot.width = 20, repr.plot.height = 20)\n",
    "pairs(movies_imp[,numlst], \n",
    "      upper.panel = panel.smooth,\n",
    "      diag.panel = panel.hist, \n",
    "      lower.panel = NULL,\n",
    "      cex=0.8)"
   ]
  },
  {
   "cell_type": "code",
   "execution_count": null,
   "metadata": {},
   "outputs": [],
   "source": [
    "options(repr.plot.width = 25, repr.plot.height = 25)\n",
    "library(corrgram)\n",
    "dfcormat <- cor(movies_imp[,c(numlst,'revenue')], use = \"pairwise.complete.obs\", method = \"spearman\")\n",
    "corrgram::corrgram(dfcormat)"
   ]
  },
  {
   "cell_type": "code",
   "execution_count": null,
   "metadata": {},
   "outputs": [],
   "source": [
    "library(rcompanion)\n",
    "library(lsr)\n",
    "res <- correlate(movies_imp, corr.method = \"spearman\")\n",
    "res"
   ]
  },
  {
   "cell_type": "code",
   "execution_count": null,
   "metadata": {},
   "outputs": [],
   "source": [
    "options(repr.plot.width = 5, repr.plot.height = 5)\n",
    "summary(movies_imp$revenue)\n",
    "hist(movies_imp$revenue, main='Revenue')\n",
    "hist(log(movies_imp$revenue+1) ,main='Revenue log')\n",
    "plot(log(movies_imp$budget+1) ~ log(movies$revenue+1), main='Revenue vs. Budget')\n",
    "plot(log(movies_imp$Avg_Popularity_5Y_Actor0+1) ~ log(movies_imp$revenue+1), main='Revenue vs. Avg_Popularity_5Y_Actor0')\n",
    "plot(log(movies_imp$Avg_Popularity_5Y_Actor1+1) ~ log(movies_imp$revenue+1),main='Revenue vs. Avg_Popularity_5Y_Actor1')\n",
    "\n",
    "for (n in numlst){\n",
    "    if(!n %in% c('budget','Avg_Popularity_5Y_Actor0','Avg_Popularity_5Y_Actor1')) {\n",
    "        plot(log(movies_imp$revenue+1) ~ movies_imp[[n]], main= n)\n",
    "    }\n",
    "}"
   ]
  },
  {
   "cell_type": "code",
   "execution_count": null,
   "metadata": {},
   "outputs": [],
   "source": [
    "#categoial variables\n",
    "options(repr.plot.width = 8, repr.plot.height = 8)\n",
    "for (v in names(movies_imp[,3:41])) { \n",
    "    if(is.factor(movies_imp[[v]])==T) {\n",
    "        suppressWarnings(boxplot(log(movies_imp$revenue+1) ~ movies_imp[[v]], main=v, outline=F))\n",
    "    }\n",
    "}"
   ]
  },
  {
   "cell_type": "markdown",
   "metadata": {},
   "source": [
    "The outcome has high positive corraletion to :\n",
    "(both with outliers retained)\n",
    "1. budget\n",
    "2. popularity\n",
    "\n",
    "It is associated with:\n",
    "1. average popularity of main actors (order 0 - positive up to popularity 40 and then negative)\n",
    "2. female/male actor ratio - strong correlation up to ~0.5 and then no correlation\n",
    "3. original language english\n",
    "4. homepage available\n",
    "5. tagline\n",
    "6. top genre\n",
    "\n",
    "variable correlation with:\n",
    "1. keyword count - positive up to 50 and then negative\n",
    "2. in collection - strong positive up to 7 and then negative\n",
    "3. rutime - strong positive bteween 100-200 min and negative beyond 200 min"
   ]
  },
  {
   "cell_type": "code",
   "execution_count": null,
   "metadata": {},
   "outputs": [],
   "source": [
    "m_out_imp <- outlierMatrix(movies_imp)"
   ]
  },
  {
   "cell_type": "code",
   "execution_count": null,
   "metadata": {},
   "outputs": [],
   "source": [
    "# Check for Distribution change with/without outliers values\n",
    "res_imp <- NULL\n",
    "for (n in numlst) {\n",
    "    out <- movies_imp[[n]]\n",
    "    non <- movies_imp[[n]][which(m_out_imp[[n]]==0)]\n",
    "    outnum <- length(out) - length(non)\n",
    "    #pval <- suppressWarnings(ks.test(out,non)$p.value)\n",
    "    res_imp <- rbind(res_imp, cbind(var=n, outliers_cnt=outnum))#, distributation_chg=ifelse(pval<0.05,'+','-')))\n",
    "}\n",
    "res_imp"
   ]
  },
  {
   "cell_type": "markdown",
   "metadata": {},
   "source": [
    "Popularity and Avg_Popularity_5Y_Actor0 have large outliers that need to be evaluated"
   ]
  },
  {
   "cell_type": "code",
   "execution_count": null,
   "metadata": {},
   "outputs": [],
   "source": [
    "options(repr.plot.width = 8, repr.plot.height = 8)\n",
    "boxplot(movies_imp$popularity,main =\"popularity\")\n",
    "boxplot(movies_imp$Avg_Popularity_5Y_Actor0,main=\"Avg_Popularity_5Y_Actor0\")\n",
    "movies_tmp <- movies_imp\n",
    "movies_tmp$popularity <- remove_outliers(movies_tmp$popularity)\n",
    "qplot(x=popularity, y=revenue, data=movies_tmp,geom='jitter', method='smooth',main=\"removed outliers\")\n",
    "qplot(x=popularity, y=revenue, data=movies_imp,geom='jitter', method='smooth')\n",
    "movies_tmp$Avg_Popularity_5Y_Actor0 <- remove_outliers(movies_tmp$Avg_Popularity_5Y_Actor0)\n",
    "qplot(x=Avg_Popularity_5Y_Actor0, y=revenue, data=movies_tmp,geom='jitter', method='smooth',main=\"removed outliers\")\n",
    "qplot(x=Avg_Popularity_5Y_Actor0, y=revenue, data=movies_imp,geom='jitter', method='smooth')"
   ]
  },
  {
   "cell_type": "code",
   "execution_count": null,
   "metadata": {},
   "outputs": [],
   "source": [
    "# Test difference in distribution with/without outliers valus for all vars\n",
    "options(repr.plot.width = 10, repr.plot.height = 8)\n",
    "\n",
    "for (n in numlst){ #discard id var\n",
    "    if (n %in% c('popularity','budget')){\n",
    "        hist(log(movies[[n]]+1), breaks=30, col=rgb(1,0,0,0.5),main=n, xlab=c(\"log\",n), ylab=\"frequency\")\n",
    "        hist(log(movies[[n]][which(m_out_imp[[n]]==0)]+1), breaks=30, col=rgb(0,0,1,0.5), add=T,xlab= c(n,\"w/o outliers\"))\n",
    "        legend(\"topright\", legend=c(\"with Outliers\",\"without Outliers\"), col=c(rgb(1,0,0,0.5), \n",
    "         rgb(0,0,1,0.5)), pt.cex=2, pch=15 )\n",
    "        }\n",
    "    else {\n",
    "        hist(movies[[n]], breaks=30, col=rgb(1,0,0,0.5),main=n, xlab=n, ylab=\"frequency\")\n",
    "        hist(movies[[n]][which(m_out_imp[[n]]==0)], breaks=30, col=rgb(0,0,1,0.5), add=T,xlab= c(n,\"w/o outliers\"))\n",
    "        legend(\"topright\", legend=c(\"with Outliers\",\"without Outliers\"), col=c(rgb(1,0,0,0.5), \n",
    "         rgb(0,0,1,0.5)), pt.cex=2, pch=15 )\n",
    "    }\n",
    "}"
   ]
  },
  {
   "cell_type": "code",
   "execution_count": null,
   "metadata": {},
   "outputs": [],
   "source": [
    "#check correlation with revenue with/without outliers for all numeric vars\n",
    "options(repr.plot.width = 10, repr.plot.height = 10)\n",
    "for (n in numlst) {\n",
    "    plot(movies_imp[[n]], movies_imp$revenue, main=n, xlab=n,col=rgb(1,0,0,0.5), ylab='Revenue')\n",
    "    points(movies_imp[[n]][which(m_out_imp[[n]]==0)], movies_imp$revenue[which(m_out_imp[[n]]==0)],col=rgb(0,1,0,0.5),ylab='Revenue', pch=10)\n",
    "    legend(\"topright\", legend=c(\"with Outliers\",\"without Outliers\"), col=c(rgb(1,0,0,0.5), \n",
    "     rgb(0,1,0,0.5)), pt.cex=2, pch=15 )\n",
    "}"
   ]
  },
  {
   "cell_type": "code",
   "execution_count": null,
   "metadata": {},
   "outputs": [],
   "source": [
    "mm1 <- mechkar::getMissingness(data = movies_imp)\n",
    "mm1$missingness\n",
    "mm1$missingness$var"
   ]
  },
  {
   "cell_type": "code",
   "execution_count": null,
   "metadata": {},
   "outputs": [],
   "source": [
    "df_na_imp <- missingMatrix(movies)"
   ]
  },
  {
   "cell_type": "code",
   "execution_count": null,
   "metadata": {},
   "outputs": [],
   "source": [
    "library(naniar)\n",
    "options(repr.plot.width = 20, repr.plot.height = 12)\n",
    "vis_miss(movies_imp,warn_large_data=F)"
   ]
  }
 ],
 "metadata": {
  "kernelspec": {
   "display_name": "R",
   "language": "R",
   "name": "ir"
  },
  "language_info": {
   "codemirror_mode": "r",
   "file_extension": ".r",
   "mimetype": "text/x-r-source",
   "name": "R",
   "pygments_lexer": "r",
   "version": "4.0.5"
  }
 },
 "nbformat": 4,
 "nbformat_minor": 4
}
